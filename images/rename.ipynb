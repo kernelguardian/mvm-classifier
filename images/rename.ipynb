{
 "cells": [
  {
   "cell_type": "code",
   "execution_count": 1,
   "metadata": {},
   "outputs": [],
   "source": [
    "import os"
   ]
  },
  {
   "cell_type": "code",
   "execution_count": 14,
   "metadata": {},
   "outputs": [],
   "source": [
    "\ti = 0\n",
    "\t\n",
    "\tfor filename in os.listdir(\"mammooty\"): \n",
    "        name =\"mammooty_\" + str(i) + \".jpg\"\n",
    "        src = \"mammooty/\" + filename \n",
    "        dst = name\n",
    "        os.rename(src, \"mammooty/\" + dst)\n",
    "        i += 1"
   ]
  },
  {
   "cell_type": "code",
   "execution_count": 16,
   "metadata": {},
   "outputs": [],
   "source": [
    "\ti = 0\n",
    "\t\n",
    "\tfor filename in os.listdir(\"mohanlal\"): \n",
    "        name =\"mohanlal_\" + str(i) + \".jpg\"\n",
    "        src = \"mohanlal/\" + filename \n",
    "        dst = name\n",
    "        os.rename(src, \"mohanlal/\" + dst)\n",
    "        i += 1"
   ]
  }
 ],
 "metadata": {
  "kernelspec": {
   "display_name": "Python 3",
   "language": "python",
   "name": "python3"
  },
  "language_info": {
   "codemirror_mode": {
    "name": "ipython",
    "version": 3
   },
   "file_extension": ".py",
   "mimetype": "text/x-python",
   "name": "python",
   "nbconvert_exporter": "python",
   "pygments_lexer": "ipython3",
   "version": "3.7.5"
  }
 },
 "nbformat": 4,
 "nbformat_minor": 2
}
